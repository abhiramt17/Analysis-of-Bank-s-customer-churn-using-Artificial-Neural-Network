{
 "cells": [
  {
   "cell_type": "markdown",
   "metadata": {},
   "source": [
    "## Analysis of Bank’s customer churn using Artificial Neural Network"
   ]
  },
  {
   "cell_type": "markdown",
   "metadata": {},
   "source": [
    "● Preprocess the dataset by OneHotEncoding, splitting the dataset and feature scaling of the data\n",
    "\n",
    "● Built the input layer followed with four hidden layers connected to the output layer and run stochastic gradient descent\n",
    "\n",
    "● Training data is fit to ANN, the test set results and accuracy are predicted using confusion matrix\n",
    "\n",
    "● Activation Functions : Sigmoid, Rectifier (ReLu), Epochs : 64"
   ]
  },
  {
   "cell_type": "code",
   "execution_count": 1,
   "metadata": {},
   "outputs": [],
   "source": [
    "# Importing the libraries\n",
    "import numpy as np\n",
    "import matplotlib.pyplot as plt\n",
    "import pandas as pd"
   ]
  },
  {
   "cell_type": "code",
   "execution_count": 2,
   "metadata": {},
   "outputs": [],
   "source": [
    "# Importing the dataset\n",
    "dataset = pd.read_csv('Churn_Modelling.csv')\n",
    "X = dataset.iloc[:,3:13].values\n",
    "y = dataset.iloc[:, 13].values"
   ]
  },
  {
   "cell_type": "code",
   "execution_count": 3,
   "metadata": {},
   "outputs": [],
   "source": [
    "# Encoding categorical data\n",
    "from sklearn.preprocessing import LabelEncoder, OneHotEncoder\n",
    "labelencoder_X_1 = LabelEncoder()\n",
    "X[:, 1] = labelencoder_X_1.fit_transform(X[:, 1])\n",
    "labelencoder_X_2 = LabelEncoder()\n",
    "X[:, 2] = labelencoder_X_2.fit_transform(X[:, 2])"
   ]
  },
  {
   "cell_type": "code",
   "execution_count": 4,
   "metadata": {},
   "outputs": [],
   "source": [
    "# to avoid ranges, we create dummy variables\n",
    "onehotencoder = OneHotEncoder(categorical_features = [1])\n",
    "X = onehotencoder.fit_transform(X).toarray()"
   ]
  },
  {
   "cell_type": "code",
   "execution_count": 5,
   "metadata": {},
   "outputs": [],
   "source": [
    "# to avoid dummy variable trap\n",
    "X = X[:, 1:]"
   ]
  },
  {
   "cell_type": "code",
   "execution_count": 6,
   "metadata": {},
   "outputs": [],
   "source": [
    "# Splitting the dataset into the Training set and Test set\n",
    "from sklearn.model_selection import train_test_split\n",
    "X_train, X_test, y_train, y_test = train_test_split(X, y, test_size = 0.2, random_state = 0)"
   ]
  },
  {
   "cell_type": "code",
   "execution_count": 7,
   "metadata": {},
   "outputs": [],
   "source": [
    "# Feature Scaling\n",
    "from sklearn.preprocessing import StandardScaler\n",
    "sc = StandardScaler()\n",
    "X_train = sc.fit_transform(X_train)\n",
    "X_test = sc.transform(X_test)"
   ]
  },
  {
   "cell_type": "code",
   "execution_count": 8,
   "metadata": {},
   "outputs": [
    {
     "name": "stderr",
     "output_type": "stream",
     "text": [
      "Using TensorFlow backend.\n"
     ]
    }
   ],
   "source": [
    "# Part 2 - Artificial Neural Network\n",
    "\n",
    "#Importing keras libraries and packages \n",
    "import keras\n",
    "from keras.models import Sequential\n",
    "from keras.layers import Dense"
   ]
  },
  {
   "cell_type": "code",
   "execution_count": 9,
   "metadata": {},
   "outputs": [],
   "source": [
    "#Initializing ANN\n",
    "classifier = Sequential()"
   ]
  },
  {
   "cell_type": "code",
   "execution_count": 10,
   "metadata": {},
   "outputs": [
    {
     "name": "stderr",
     "output_type": "stream",
     "text": [
      "/anaconda/envs/tensorflow/lib/python3.5/site-packages/ipykernel_launcher.py:2: UserWarning: Update your `Dense` call to the Keras 2 API: `Dense(kernel_initializer=\"uniform\", activation=\"relu\", input_dim=11, units=6)`\n",
      "  \n"
     ]
    }
   ],
   "source": [
    "#Adding the input layer and the first hidden layer using rectifier activation function \n",
    "classifier.add(Dense(output_dim = 6,input_dim = 11 ,init = 'uniform', activation='relu'))"
   ]
  },
  {
   "cell_type": "code",
   "execution_count": 11,
   "metadata": {},
   "outputs": [
    {
     "name": "stderr",
     "output_type": "stream",
     "text": [
      "/anaconda/envs/tensorflow/lib/python3.5/site-packages/ipykernel_launcher.py:2: UserWarning: Update your `Dense` call to the Keras 2 API: `Dense(kernel_initializer=\"uniform\", activation=\"relu\", units=6)`\n",
      "  \n"
     ]
    }
   ],
   "source": [
    "#Adding the second hidden layer\n",
    "classifier.add(Dense(output_dim = 6, init = 'uniform', activation ='relu'))"
   ]
  },
  {
   "cell_type": "code",
   "execution_count": 12,
   "metadata": {},
   "outputs": [
    {
     "name": "stderr",
     "output_type": "stream",
     "text": [
      "/anaconda/envs/tensorflow/lib/python3.5/site-packages/ipykernel_launcher.py:2: UserWarning: Update your `Dense` call to the Keras 2 API: `Dense(kernel_initializer=\"uniform\", activation=\"sigmoid\", units=1)`\n",
      "  \n"
     ]
    }
   ],
   "source": [
    "#Adding the output layer using sigmoid activation function for best results\n",
    "classifier.add(Dense(output_dim = 1, init = 'uniform', activation ='sigmoid'))"
   ]
  },
  {
   "cell_type": "code",
   "execution_count": 13,
   "metadata": {},
   "outputs": [],
   "source": [
    "#Compiling the ANN - Stochastic Gradient Descent (adam)\n",
    "classifier.compile(optimizer= 'adam', loss = 'binary_crossentropy', metrics = ['accuracy'])"
   ]
  },
  {
   "cell_type": "code",
   "execution_count": 14,
   "metadata": {},
   "outputs": [
    {
     "name": "stdout",
     "output_type": "stream",
     "text": [
      "Epoch 1/100\n",
      "8000/8000 [==============================] - 2s 191us/step - loss: 0.4950 - acc: 0.7954\n",
      "Epoch 2/100\n",
      "8000/8000 [==============================] - 1s 149us/step - loss: 0.4306 - acc: 0.7960\n",
      "Epoch 3/100\n",
      "8000/8000 [==============================] - 1s 130us/step - loss: 0.4259 - acc: 0.7960\n",
      "Epoch 4/100\n",
      "8000/8000 [==============================] - 1s 143us/step - loss: 0.4217 - acc: 0.8020\n",
      "Epoch 5/100\n",
      "8000/8000 [==============================] - 1s 136us/step - loss: 0.4183 - acc: 0.8236\n",
      "Epoch 6/100\n",
      "8000/8000 [==============================] - 1s 130us/step - loss: 0.4165 - acc: 0.8256\n",
      "Epoch 7/100\n",
      "8000/8000 [==============================] - 1s 141us/step - loss: 0.4148 - acc: 0.8291\n",
      "Epoch 8/100\n",
      "8000/8000 [==============================] - 1s 131us/step - loss: 0.4133 - acc: 0.8310\n",
      "Epoch 9/100\n",
      "8000/8000 [==============================] - 1s 129us/step - loss: 0.4120 - acc: 0.8307\n",
      "Epoch 10/100\n",
      "8000/8000 [==============================] - 1s 129us/step - loss: 0.4110 - acc: 0.8325\n",
      "Epoch 11/100\n",
      "8000/8000 [==============================] - 1s 141us/step - loss: 0.4104 - acc: 0.8330\n",
      "Epoch 12/100\n",
      "8000/8000 [==============================] - 1s 137us/step - loss: 0.4093 - acc: 0.8336\n",
      "Epoch 13/100\n",
      "8000/8000 [==============================] - 1s 132us/step - loss: 0.4080 - acc: 0.8345\n",
      "Epoch 14/100\n",
      "8000/8000 [==============================] - 1s 139us/step - loss: 0.4070 - acc: 0.8347\n",
      "Epoch 15/100\n",
      "8000/8000 [==============================] - 1s 141us/step - loss: 0.4066 - acc: 0.8345\n",
      "Epoch 16/100\n",
      "8000/8000 [==============================] - 1s 133us/step - loss: 0.4060 - acc: 0.8347\n",
      "Epoch 17/100\n",
      "8000/8000 [==============================] - 1s 141us/step - loss: 0.4054 - acc: 0.8347\n",
      "Epoch 18/100\n",
      "8000/8000 [==============================] - 1s 132us/step - loss: 0.4053 - acc: 0.8347\n",
      "Epoch 19/100\n",
      "8000/8000 [==============================] - 1s 131us/step - loss: 0.4049 - acc: 0.8349\n",
      "Epoch 20/100\n",
      "8000/8000 [==============================] - 1s 129us/step - loss: 0.4045 - acc: 0.8349\n",
      "Epoch 21/100\n",
      "8000/8000 [==============================] - 1s 131us/step - loss: 0.4040 - acc: 0.8356\n",
      "Epoch 22/100\n",
      "8000/8000 [==============================] - 1s 132us/step - loss: 0.4038 - acc: 0.8346\n",
      "Epoch 23/100\n",
      "8000/8000 [==============================] - 1s 131us/step - loss: 0.4039 - acc: 0.8346\n",
      "Epoch 24/100\n",
      "8000/8000 [==============================] - 1s 131us/step - loss: 0.4032 - acc: 0.8351\n",
      "Epoch 25/100\n",
      "8000/8000 [==============================] - 1s 131us/step - loss: 0.4028 - acc: 0.8345\n",
      "Epoch 26/100\n",
      "8000/8000 [==============================] - 1s 131us/step - loss: 0.4030 - acc: 0.8350\n",
      "Epoch 27/100\n",
      "8000/8000 [==============================] - 1s 130us/step - loss: 0.4025 - acc: 0.8342\n",
      "Epoch 28/100\n",
      "8000/8000 [==============================] - 1s 130us/step - loss: 0.4021 - acc: 0.8350\n",
      "Epoch 29/100\n",
      "8000/8000 [==============================] - 1s 131us/step - loss: 0.4019 - acc: 0.8351\n",
      "Epoch 30/100\n",
      "8000/8000 [==============================] - 1s 131us/step - loss: 0.4018 - acc: 0.8351\n",
      "Epoch 31/100\n",
      "8000/8000 [==============================] - 1s 132us/step - loss: 0.4019 - acc: 0.8344\n",
      "Epoch 32/100\n",
      "8000/8000 [==============================] - 1s 131us/step - loss: 0.4018 - acc: 0.8350\n",
      "Epoch 33/100\n",
      "8000/8000 [==============================] - 1s 131us/step - loss: 0.4009 - acc: 0.8351\n",
      "Epoch 34/100\n",
      "8000/8000 [==============================] - 1s 132us/step - loss: 0.4017 - acc: 0.8351\n",
      "Epoch 35/100\n",
      "8000/8000 [==============================] - 1s 130us/step - loss: 0.4014 - acc: 0.8351\n",
      "Epoch 36/100\n",
      "8000/8000 [==============================] - 1s 130us/step - loss: 0.4017 - acc: 0.8352\n",
      "Epoch 37/100\n",
      "8000/8000 [==============================] - 1s 131us/step - loss: 0.4013 - acc: 0.8357\n",
      "Epoch 38/100\n",
      "8000/8000 [==============================] - 1s 129us/step - loss: 0.4009 - acc: 0.8342\n",
      "Epoch 39/100\n",
      "8000/8000 [==============================] - 1s 131us/step - loss: 0.4009 - acc: 0.8351\n",
      "Epoch 40/100\n",
      "8000/8000 [==============================] - 1s 130us/step - loss: 0.4011 - acc: 0.8349\n",
      "Epoch 41/100\n",
      "8000/8000 [==============================] - 1s 130us/step - loss: 0.4007 - acc: 0.8347\n",
      "Epoch 42/100\n",
      "8000/8000 [==============================] - 1s 132us/step - loss: 0.4009 - acc: 0.8346\n",
      "Epoch 43/100\n",
      "8000/8000 [==============================] - 1s 132us/step - loss: 0.4006 - acc: 0.8356\n",
      "Epoch 44/100\n",
      "8000/8000 [==============================] - 1s 131us/step - loss: 0.4010 - acc: 0.8361\n",
      "Epoch 45/100\n",
      "8000/8000 [==============================] - 1s 130us/step - loss: 0.4008 - acc: 0.8362\n",
      "Epoch 46/100\n",
      "8000/8000 [==============================] - 1s 130us/step - loss: 0.4008 - acc: 0.8356\n",
      "Epoch 47/100\n",
      "8000/8000 [==============================] - 1s 133us/step - loss: 0.4006 - acc: 0.8354\n",
      "Epoch 48/100\n",
      "8000/8000 [==============================] - 1s 149us/step - loss: 0.4005 - acc: 0.8349\n",
      "Epoch 49/100\n",
      "8000/8000 [==============================] - 1s 132us/step - loss: 0.3999 - acc: 0.8366\n",
      "Epoch 50/100\n",
      "8000/8000 [==============================] - 1s 131us/step - loss: 0.4007 - acc: 0.8351\n",
      "Epoch 51/100\n",
      "8000/8000 [==============================] - 1s 131us/step - loss: 0.4006 - acc: 0.8360\n",
      "Epoch 52/100\n",
      "8000/8000 [==============================] - 1s 131us/step - loss: 0.4002 - acc: 0.8354\n",
      "Epoch 53/100\n",
      "8000/8000 [==============================] - 1s 132us/step - loss: 0.4003 - acc: 0.8365\n",
      "Epoch 54/100\n",
      "8000/8000 [==============================] - 1s 130us/step - loss: 0.4002 - acc: 0.8351\n",
      "Epoch 55/100\n",
      "8000/8000 [==============================] - 1s 132us/step - loss: 0.4005 - acc: 0.8356\n",
      "Epoch 56/100\n",
      "8000/8000 [==============================] - 1s 130us/step - loss: 0.3998 - acc: 0.8346\n",
      "Epoch 57/100\n",
      "8000/8000 [==============================] - 1s 130us/step - loss: 0.4002 - acc: 0.8354\n",
      "Epoch 58/100\n",
      "8000/8000 [==============================] - 1s 137us/step - loss: 0.4002 - acc: 0.8367\n",
      "Epoch 59/100\n",
      "8000/8000 [==============================] - 1s 139us/step - loss: 0.4003 - acc: 0.8354\n",
      "Epoch 60/100\n",
      "8000/8000 [==============================] - 1s 142us/step - loss: 0.4002 - acc: 0.8364\n",
      "Epoch 61/100\n",
      "8000/8000 [==============================] - 1s 138us/step - loss: 0.4002 - acc: 0.8361\n",
      "Epoch 62/100\n",
      "8000/8000 [==============================] - 1s 131us/step - loss: 0.3998 - acc: 0.8354\n",
      "Epoch 63/100\n",
      "8000/8000 [==============================] - 1s 129us/step - loss: 0.4002 - acc: 0.8357\n",
      "Epoch 64/100\n",
      "8000/8000 [==============================] - 1s 129us/step - loss: 0.4001 - acc: 0.8340\n",
      "Epoch 65/100\n",
      "8000/8000 [==============================] - 1s 133us/step - loss: 0.4001 - acc: 0.8351\n",
      "Epoch 66/100\n",
      "8000/8000 [==============================] - 1s 131us/step - loss: 0.4001 - acc: 0.8356\n",
      "Epoch 67/100\n",
      "8000/8000 [==============================] - 1s 130us/step - loss: 0.4000 - acc: 0.8361\n",
      "Epoch 68/100\n",
      "8000/8000 [==============================] - 1s 130us/step - loss: 0.4000 - acc: 0.8370\n",
      "Epoch 69/100\n",
      "8000/8000 [==============================] - 1s 133us/step - loss: 0.3997 - acc: 0.8359\n",
      "Epoch 70/100\n",
      "8000/8000 [==============================] - 1s 130us/step - loss: 0.4001 - acc: 0.8357\n",
      "Epoch 71/100\n",
      "8000/8000 [==============================] - 1s 141us/step - loss: 0.3997 - acc: 0.8339\n",
      "Epoch 72/100\n",
      "8000/8000 [==============================] - 1s 130us/step - loss: 0.3998 - acc: 0.8360\n",
      "Epoch 73/100\n",
      "8000/8000 [==============================] - 1s 130us/step - loss: 0.4000 - acc: 0.8354\n",
      "Epoch 74/100\n",
      "8000/8000 [==============================] - 1s 130us/step - loss: 0.3997 - acc: 0.8362\n",
      "Epoch 75/100\n",
      "8000/8000 [==============================] - 1s 130us/step - loss: 0.4000 - acc: 0.8352\n",
      "Epoch 76/100\n",
      "8000/8000 [==============================] - 1s 129us/step - loss: 0.3999 - acc: 0.8356\n",
      "Epoch 77/100\n",
      "8000/8000 [==============================] - 1s 130us/step - loss: 0.4002 - acc: 0.8346\n",
      "Epoch 78/100\n",
      "8000/8000 [==============================] - 1s 130us/step - loss: 0.3999 - acc: 0.8371\n",
      "Epoch 79/100\n",
      "8000/8000 [==============================] - 1s 130us/step - loss: 0.3996 - acc: 0.8351\n",
      "Epoch 80/100\n",
      "8000/8000 [==============================] - 1s 130us/step - loss: 0.3989 - acc: 0.8360\n",
      "Epoch 81/100\n",
      "8000/8000 [==============================] - 1s 130us/step - loss: 0.3998 - acc: 0.8345\n",
      "Epoch 82/100\n"
     ]
    },
    {
     "name": "stdout",
     "output_type": "stream",
     "text": [
      "8000/8000 [==============================] - 1s 128us/step - loss: 0.3996 - acc: 0.8366\n",
      "Epoch 83/100\n",
      "8000/8000 [==============================] - 1s 129us/step - loss: 0.3995 - acc: 0.8365\n",
      "Epoch 84/100\n",
      "8000/8000 [==============================] - 1s 129us/step - loss: 0.3992 - acc: 0.8346\n",
      "Epoch 85/100\n",
      "8000/8000 [==============================] - 1s 129us/step - loss: 0.3995 - acc: 0.8351\n",
      "Epoch 86/100\n",
      "8000/8000 [==============================] - 1s 133us/step - loss: 0.3994 - acc: 0.8365\n",
      "Epoch 87/100\n",
      "8000/8000 [==============================] - 1s 129us/step - loss: 0.3994 - acc: 0.8359\n",
      "Epoch 88/100\n",
      "8000/8000 [==============================] - 1s 128us/step - loss: 0.3998 - acc: 0.8354\n",
      "Epoch 89/100\n",
      "8000/8000 [==============================] - 1s 128us/step - loss: 0.3998 - acc: 0.8355\n",
      "Epoch 90/100\n",
      "8000/8000 [==============================] - 1s 129us/step - loss: 0.3994 - acc: 0.8347\n",
      "Epoch 91/100\n",
      "8000/8000 [==============================] - 1s 130us/step - loss: 0.3998 - acc: 0.8352\n",
      "Epoch 92/100\n",
      "8000/8000 [==============================] - 1s 128us/step - loss: 0.3990 - acc: 0.8354\n",
      "Epoch 93/100\n",
      "8000/8000 [==============================] - 1s 129us/step - loss: 0.3997 - acc: 0.8352\n",
      "Epoch 94/100\n",
      "8000/8000 [==============================] - 1s 128us/step - loss: 0.3995 - acc: 0.8362\n",
      "Epoch 95/100\n",
      "8000/8000 [==============================] - 1s 128us/step - loss: 0.3996 - acc: 0.8369\n",
      "Epoch 96/100\n",
      "8000/8000 [==============================] - 1s 129us/step - loss: 0.3995 - acc: 0.8370\n",
      "Epoch 97/100\n",
      "8000/8000 [==============================] - 1s 128us/step - loss: 0.3995 - acc: 0.8354\n",
      "Epoch 98/100\n",
      "8000/8000 [==============================] - 1s 129us/step - loss: 0.3994 - acc: 0.8359\n",
      "Epoch 99/100\n",
      "8000/8000 [==============================] - 1s 137us/step - loss: 0.3996 - acc: 0.8350\n",
      "Epoch 100/100\n",
      "8000/8000 [==============================] - 1s 154us/step - loss: 0.3995 - acc: 0.8376\n"
     ]
    },
    {
     "data": {
      "text/plain": [
       "<keras.callbacks.History at 0x11b84af60>"
      ]
     },
     "execution_count": 14,
     "metadata": {},
     "output_type": "execute_result"
    }
   ],
   "source": [
    "#Fit the ANN to the Training set\n",
    "classifier.fit(X_train, y_train, batch_size = 10, epochs = 100)"
   ]
  },
  {
   "cell_type": "code",
   "execution_count": 15,
   "metadata": {},
   "outputs": [],
   "source": [
    "# Part 3 - Making predictions and evaluating the Model\n",
    "\n",
    "#Predicting the test set results\n",
    "y_pred = classifier.predict(X_test)\n",
    "y_pred = (y_pred> 0.5 )"
   ]
  },
  {
   "cell_type": "code",
   "execution_count": 16,
   "metadata": {},
   "outputs": [],
   "source": [
    "#Making confusion matrix\n",
    "from sklearn.metrics import confusion_matrix\n",
    "cm = confusion_matrix(y_test, y_pred)"
   ]
  },
  {
   "cell_type": "code",
   "execution_count": 17,
   "metadata": {},
   "outputs": [
    {
     "data": {
      "text/plain": [
       "array([[1542,   53],\n",
       "       [ 263,  142]])"
      ]
     },
     "execution_count": 17,
     "metadata": {},
     "output_type": "execute_result"
    }
   ],
   "source": [
    "cm\n",
    "# Model with an accuracy of 84%"
   ]
  }
 ],
 "metadata": {
  "kernelspec": {
   "display_name": "Python 3",
   "language": "python",
   "name": "python3"
  },
  "language_info": {
   "codemirror_mode": {
    "name": "ipython",
    "version": 3
   },
   "file_extension": ".py",
   "mimetype": "text/x-python",
   "name": "python",
   "nbconvert_exporter": "python",
   "pygments_lexer": "ipython3",
   "version": "3.5.5"
  }
 },
 "nbformat": 4,
 "nbformat_minor": 2
}
